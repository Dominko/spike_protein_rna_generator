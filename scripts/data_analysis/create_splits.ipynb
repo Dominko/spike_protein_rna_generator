{
 "cells": [
  {
   "cell_type": "code",
   "execution_count": 16,
   "metadata": {},
   "outputs": [
    {
     "name": "stdout",
     "output_type": "stream",
     "text": [
      "44495     ATGTTTGTTTTTCTTGTTTTATTGCCACTAGTCTCTAGTCAGTGTG...\n",
      "139727    ATGTTTGTTTTTCTTGTTTTATTGCCACTAGTCTCTAGTCAGTGTG...\n",
      "Name: 0, dtype: object\n"
     ]
    }
   ],
   "source": [
    "import gzip\n",
    "from Bio import SeqIO, SeqRecord\n",
    "from Bio.SeqUtils.CodonUsage import CodonAdaptationIndex\n",
    "from tqdm import tqdm\n",
    "import matplotlib.pyplot as plt\n",
    "import scipy.stats as st\n",
    "import numpy as np\n",
    "import re\n",
    "import pandas as pd\n",
    "from sklearn.decomposition import PCA\n",
    "import seaborn as sns\n",
    "from datetime import datetime\n",
    "import random\n",
    "import pickle\n",
    "\n",
    "full_data_path = \"../../datasets/spike_nuc_clean_3813\"\n",
    "train_data_path = \"../../datasets/train\"\n",
    "valid_data_path = \"../../datasets/valid\"\n",
    "test_data_path = \"../../datasets/test\"\n",
    "\n",
    "full_data = pd.read_csv(full_data_path, header=None)[0]\n",
    "# print(full_data.head(2))\n",
    "\n",
    "train, valid, test = np.split(full_data.sample(frac=1), [int(.6*len(full_data)), int(.8*len(full_data))])\n",
    "\n",
    "print(train.head(2))\n",
    "\n",
    "with open(train_data_path,'w') as f:\n",
    "    for row in train:\n",
    "        f.write(row + \"\\r\\n\")\n",
    "\n",
    "with open(valid_data_path,'w') as f:\n",
    "    for row in valid:\n",
    "        f.write(row + \"\\r\\n\")\n",
    "\n",
    "with open(test_data_path,'w') as f:\n",
    "    for row in test:\n",
    "        f.write(row + \"\\r\\n\")\n",
    "# train.to_csv(train_data_path)\n",
    "# validate.to_csv(valid_data_path)\n",
    "# test.to_csv(test_data_path)"
   ]
  }
 ],
 "metadata": {
  "kernelspec": {
   "display_name": "spike_rna",
   "language": "python",
   "name": "python3"
  },
  "language_info": {
   "codemirror_mode": {
    "name": "ipython",
    "version": 3
   },
   "file_extension": ".py",
   "mimetype": "text/x-python",
   "name": "python",
   "nbconvert_exporter": "python",
   "pygments_lexer": "ipython3",
   "version": "3.11.0"
  },
  "orig_nbformat": 4,
  "vscode": {
   "interpreter": {
    "hash": "01f607ab95c8902d71e46e818ba88ea9631de7ba0f060bf546ce1a8687d18deb"
   }
  }
 },
 "nbformat": 4,
 "nbformat_minor": 2
}

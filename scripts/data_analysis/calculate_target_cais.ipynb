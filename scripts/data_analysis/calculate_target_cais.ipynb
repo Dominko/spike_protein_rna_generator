{
 "cells": [
  {
   "cell_type": "code",
   "execution_count": 2,
   "metadata": {},
   "outputs": [],
   "source": [
    "import gzip\n",
    "from Bio import SeqIO, SeqRecord\n",
    "from Bio.SeqUtils import CodonAdaptationIndex\n",
    "from tqdm import tqdm\n",
    "import matplotlib.pyplot as plt\n",
    "import scipy.stats as st\n",
    "import numpy as np\n",
    "import re\n",
    "import pandas as pd\n",
    "from sklearn.decomposition import PCA\n",
    "import seaborn as sns\n",
    "from datetime import datetime\n",
    "import random\n",
    "\n",
    "human_proteome_path = \"../../datasets/raw/Homo_sapiens.GRCh38.cds.all.fa.gz\"\n",
    "base_path = \"../../datasets/raw/spike_nuc_X.fasta.gz\"\n",
    "paths = []\n",
    "\n",
    "human_cai_path = \"../../datasets/human_cai\"\n",
    "covid_cai_path = \"../../datasets/covid_cai\"\n",
    "\n",
    "pattern = re.compile(\"[^AatTgGcC*?]\")\n",
    "\n",
    "for i in range(0, 15):\n",
    "    path = base_path.replace(\"X\", str(i+1))\n",
    "    paths.append(path)\n",
    "\n",
    "def is_gene_valid(seq):\n",
    "    if len(seq) % 3 != 0:\n",
    "        return False\n",
    "    if re.search(pattern, str(seq)):\n",
    "        return False\n",
    "    \n",
    "    return True\n",
    "\n"
   ]
  },
  {
   "cell_type": "code",
   "execution_count": 3,
   "metadata": {},
   "outputs": [
    {
     "name": "stderr",
     "output_type": "stream",
     "text": [
      "121766it [00:02, 56980.06it/s]\n"
     ]
    },
    {
     "name": "stdout",
     "output_type": "stream",
     "text": [
      "AAA\t0.804\n",
      "AAC\t1.000\n",
      "AAG\t1.000\n",
      "AAT\t0.946\n",
      "ACA\t0.859\n",
      "ACC\t1.000\n",
      "ACG\t0.317\n",
      "ACT\t0.741\n",
      "AGA\t1.000\n",
      "AGC\t1.000\n",
      "AGG\t0.944\n",
      "AGT\t0.668\n",
      "ATA\t0.384\n",
      "ATC\t1.000\n",
      "ATG\t1.000\n",
      "ATT\t0.822\n",
      "CAA\t0.372\n",
      "CAC\t1.000\n",
      "CAG\t1.000\n",
      "CAT\t0.772\n",
      "CCA\t0.921\n",
      "CCC\t1.000\n",
      "CCG\t0.340\n",
      "CCT\t0.962\n",
      "CGA\t0.513\n",
      "CGC\t0.762\n",
      "CGG\t0.895\n",
      "CGT\t0.372\n",
      "CTA\t0.191\n",
      "CTC\t0.491\n",
      "CTG\t1.000\n",
      "CTT\t0.367\n",
      "GAA\t0.790\n",
      "GAC\t1.000\n",
      "GAG\t1.000\n",
      "GAT\t0.935\n",
      "GCA\t0.623\n",
      "GCC\t1.000\n",
      "GCG\t0.253\n",
      "GCT\t0.706\n",
      "GGA\t0.819\n",
      "GGC\t1.000\n",
      "GGG\t0.761\n",
      "GGT\t0.527\n",
      "GTA\t0.277\n",
      "GTC\t0.520\n",
      "GTG\t1.000\n",
      "GTT\t0.426\n",
      "TAA\t0.516\n",
      "TAC\t1.000\n",
      "TAG\t0.401\n",
      "TAT\t0.857\n",
      "TCA\t0.678\n",
      "TCC\t0.906\n",
      "TCG\t0.220\n",
      "TCT\t0.818\n",
      "TGA\t1.000\n",
      "TGC\t1.000\n",
      "TGG\t1.000\n",
      "TGT\t0.889\n",
      "TTA\t0.213\n",
      "TTC\t1.000\n",
      "TTG\t0.349\n",
      "TTT\t0.913\n",
      "\n"
     ]
    },
    {
     "ename": "AttributeError",
     "evalue": "'CodonAdaptationIndex' object has no attribute 'upper'",
     "output_type": "error",
     "traceback": [
      "\u001b[0;31m---------------------------------------------------------------------------\u001b[0m",
      "\u001b[0;31mAttributeError\u001b[0m                            Traceback (most recent call last)",
      "Cell \u001b[0;32mIn[3], line 12\u001b[0m\n\u001b[1;32m      9\u001b[0m \u001b[39mprint\u001b[39m(human_bias)\n\u001b[1;32m     11\u001b[0m \u001b[39mwith\u001b[39;00m \u001b[39mopen\u001b[39m(human_cai_path, \u001b[39m\"\u001b[39m\u001b[39mw\u001b[39m\u001b[39m\"\u001b[39m) \u001b[39mas\u001b[39;00m f:\n\u001b[0;32m---> 12\u001b[0m     f\u001b[39m.\u001b[39mwrite(\u001b[39m\"\u001b[39m\u001b[39m, \u001b[39m\u001b[39m\"\u001b[39m\u001b[39m.\u001b[39mjoin(\u001b[39mmap\u001b[39m(\u001b[39mstr\u001b[39m, \u001b[39mlist\u001b[39m(CodonAdaptationIndex([human_bias])\u001b[39m.\u001b[39mvalues()))) \u001b[39m+\u001b[39m \u001b[39m\"\u001b[39m\u001b[39m\\r\u001b[39;00m\u001b[39m\\n\u001b[39;00m\u001b[39m\"\u001b[39m)\n",
      "File \u001b[0;32m~/miniconda3/envs/spike_rna/lib/python3.11/site-packages/Bio/SeqUtils/__init__.py:620\u001b[0m, in \u001b[0;36mCodonAdaptationIndex.__init__\u001b[0;34m(self, sequences, table)\u001b[0m\n\u001b[1;32m    618\u001b[0m \u001b[39mexcept\u001b[39;00m \u001b[39mAttributeError\u001b[39;00m:  \u001b[39m# str, Seq, or MutableSeq\u001b[39;00m\n\u001b[1;32m    619\u001b[0m     name \u001b[39m=\u001b[39m \u001b[39mNone\u001b[39;00m\n\u001b[0;32m--> 620\u001b[0m sequence \u001b[39m=\u001b[39m sequence\u001b[39m.\u001b[39;49mupper()\n\u001b[1;32m    621\u001b[0m \u001b[39mfor\u001b[39;00m i \u001b[39min\u001b[39;00m \u001b[39mrange\u001b[39m(\u001b[39m0\u001b[39m, \u001b[39mlen\u001b[39m(sequence), \u001b[39m3\u001b[39m):\n\u001b[1;32m    622\u001b[0m     codon \u001b[39m=\u001b[39m sequence[i : i \u001b[39m+\u001b[39m \u001b[39m3\u001b[39m]\n",
      "\u001b[0;31mAttributeError\u001b[0m: 'CodonAdaptationIndex' object has no attribute 'upper'"
     ]
    }
   ],
   "source": [
    "human_proteome = SeqIO.parse(gzip.open(human_proteome_path, \"rt\"), \"fasta\")\n",
    "human_valid_proteome = []\n",
    "for seq_record in tqdm(human_proteome):\n",
    "    if is_gene_valid(seq_record.seq):\n",
    "        human_valid_proteome.append(seq_record)\n",
    "        # cai.cai_for_gene(str(seq_record.seq))\n",
    "\n",
    "human_bias = CodonAdaptationIndex(human_valid_proteome)\n",
    "print(human_bias)"
   ]
  },
  {
   "cell_type": "code",
   "execution_count": 4,
   "metadata": {},
   "outputs": [],
   "source": [
    "with open(human_cai_path, \"w\") as f:\n",
    "    f.write(\", \".join(map(str, list(human_bias.values()))) + \"\\r\\n\")"
   ]
  },
  {
   "cell_type": "code",
   "execution_count": 5,
   "metadata": {},
   "outputs": [
    {
     "name": "stderr",
     "output_type": "stream",
     "text": [
      "1000000it [00:23, 43455.14it/s]\n",
      "100%|██████████| 10000/10000 [00:00<00:00, 75395.49it/s]\n"
     ]
    }
   ],
   "source": [
    "covid_valid_proteome = []\n",
    "for path in paths:\n",
    "    all = []\n",
    "    i = 0\n",
    "    with gzip.open(path, \"rt\") as handle:\n",
    "        for seq_record in tqdm(SeqIO.parse(handle, \"fasta\")):\n",
    "            all.append(seq_record)\n",
    "\n",
    "        for seq in tqdm(random.sample(all, 10000)):\n",
    "            if is_gene_valid(seq.seq):\n",
    "                    covid_valid_proteome.append(seq)\n",
    "        break\n",
    "\n",
    "covid_bias = CodonAdaptationIndex(covid_valid_proteome)"
   ]
  },
  {
   "cell_type": "code",
   "execution_count": 6,
   "metadata": {},
   "outputs": [],
   "source": [
    "with open(covid_cai_path, \"w\") as f:\n",
    "    f.write(\", \".join(map(str, list(covid_bias.values()))) + \"\\r\\n\")"
   ]
  }
 ],
 "metadata": {
  "kernelspec": {
   "display_name": "spike_rna",
   "language": "python",
   "name": "python3"
  },
  "language_info": {
   "codemirror_mode": {
    "name": "ipython",
    "version": 3
   },
   "file_extension": ".py",
   "mimetype": "text/x-python",
   "name": "python",
   "nbconvert_exporter": "python",
   "pygments_lexer": "ipython3",
   "version": "3.11.4 | packaged by conda-forge | (main, Jun 10 2023, 18:08:17) [GCC 12.2.0]"
  },
  "orig_nbformat": 4,
  "vscode": {
   "interpreter": {
    "hash": "01f607ab95c8902d71e46e818ba88ea9631de7ba0f060bf546ce1a8687d18deb"
   }
  }
 },
 "nbformat": 4,
 "nbformat_minor": 2
}
